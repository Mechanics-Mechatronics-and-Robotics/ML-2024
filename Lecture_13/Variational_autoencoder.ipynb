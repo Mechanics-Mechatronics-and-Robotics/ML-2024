{
  "nbformat": 4,
  "nbformat_minor": 0,
  "metadata": {
    "colab": {
      "provenance": [],
      "authorship_tag": "ABX9TyNWNYdlUdKqI6I91cjl+zV0",
      "include_colab_link": true
    },
    "kernelspec": {
      "name": "python3",
      "display_name": "Python 3"
    },
    "language_info": {
      "name": "python"
    }
  },
  "cells": [
    {
      "cell_type": "markdown",
      "metadata": {
        "id": "view-in-github",
        "colab_type": "text"
      },
      "source": [
        "<a href=\"https://colab.research.google.com/github/Mechanics-Mechatronics-and-Robotics/ML-2024/blob/main/Variational_autoencoder.ipynb\" target=\"_parent\"><img src=\"https://colab.research.google.com/assets/colab-badge.svg\" alt=\"Open In Colab\"/></a>"
      ]
    },
    {
      "cell_type": "markdown",
      "source": [
        "# Step 1: Import Required Libraries"
      ],
      "metadata": {
        "id": "K5OOCi18Bp-P"
      }
    },
    {
      "cell_type": "code",
      "execution_count": 1,
      "metadata": {
        "id": "xmyoFTwkBe3y"
      },
      "outputs": [],
      "source": [
        "import torch\n",
        "import torch.nn as nn\n",
        "import torch.optim as optim\n",
        "import torch.nn.functional as F\n",
        "from torchvision import datasets, transforms\n",
        "import matplotlib.pyplot as plt"
      ]
    },
    {
      "cell_type": "markdown",
      "source": [
        "# Step 2: Define the VAE Model"
      ],
      "metadata": {
        "id": "HljJC_vABpFb"
      }
    },
    {
      "cell_type": "code",
      "source": [
        "class VAE(nn.Module):\n",
        "    def __init__(self, input_dim=784, hidden_dim=400, latent_dim=20):\n",
        "        super(VAE, self).__init__()\n",
        "\n",
        "        # Encoder\n",
        "        self.fc1 = nn.Linear(input_dim, hidden_dim)\n",
        "        self.fc21 = nn.Linear(hidden_dim, latent_dim)  # Mean\n",
        "        self.fc22 = nn.Linear(hidden_dim, latent_dim)  # Log variance\n",
        "\n",
        "        # Decoder\n",
        "        self.fc3 = nn.Linear(latent_dim, hidden_dim)\n",
        "        self.fc4 = nn.Linear(hidden_dim, input_dim)\n",
        "\n",
        "    def encode(self, x):\n",
        "        h1 = F.relu(self.fc1(x))\n",
        "        return self.fc21(h1), self.fc22(h1)\n",
        "\n",
        "    def reparameterize(self, mu, log_var):\n",
        "        std = torch.exp(0.5 * log_var)\n",
        "        eps = torch.randn_like(std)\n",
        "        return mu + eps * std\n",
        "\n",
        "    def decode(self, z):\n",
        "        h3 = F.relu(self.fc3(z))\n",
        "        return torch.sigmoid(self.fc4(h3))\n",
        "\n",
        "    def forward(self, x):\n",
        "        mu, log_var = self.encode(x.view(-1, 784))\n",
        "        z = self.reparameterize(mu, log_var)\n",
        "        return self.decode(z), mu, log_var"
      ],
      "metadata": {
        "id": "QPYuzFH8Bo_c"
      },
      "execution_count": 2,
      "outputs": []
    },
    {
      "cell_type": "markdown",
      "source": [
        "# Step 3: Define the Loss Function"
      ],
      "metadata": {
        "id": "xUHS0AvIBo5K"
      }
    },
    {
      "cell_type": "code",
      "source": [
        "def vae_loss(recon_x, x, mu, log_var):\n",
        "    BCE = F.binary_cross_entropy(recon_x, x.view(-1, 784), reduction='sum')\n",
        "    KLD = -0.5 * torch.sum(1 + log_var - mu.pow(2) - log_var.exp())\n",
        "    return BCE + KLD"
      ],
      "metadata": {
        "id": "mYqsaOczBoz8"
      },
      "execution_count": 3,
      "outputs": []
    },
    {
      "cell_type": "markdown",
      "source": [
        "# Step 4: Prepare the Data"
      ],
      "metadata": {
        "id": "H19Yep8dBou6"
      }
    },
    {
      "cell_type": "code",
      "source": [
        "transform = transforms.Compose([transforms.ToTensor()])\n",
        "\n",
        "train_dataset = datasets.MNIST(root='./data', train=True, transform=transform, download=True)\n",
        "train_loader = torch.utils.data.DataLoader(dataset=train_dataset, batch_size=128, shuffle=True)\n",
        "\n",
        "test_dataset = datasets.MNIST(root='./data', train=False, transform=transform, download=True)\n",
        "test_loader = torch.utils.data.DataLoader(dataset=test_dataset, batch_size=128, shuffle=False)"
      ],
      "metadata": {
        "colab": {
          "base_uri": "https://localhost:8080/"
        },
        "id": "ZpDU6dZFBopq",
        "outputId": "f45eed55-4446-4aa0-cd2b-0a7b9cfb88be"
      },
      "execution_count": 4,
      "outputs": [
        {
          "output_type": "stream",
          "name": "stdout",
          "text": [
            "Downloading http://yann.lecun.com/exdb/mnist/train-images-idx3-ubyte.gz\n",
            "Failed to download (trying next):\n",
            "HTTP Error 403: Forbidden\n",
            "\n",
            "Downloading https://ossci-datasets.s3.amazonaws.com/mnist/train-images-idx3-ubyte.gz\n",
            "Downloading https://ossci-datasets.s3.amazonaws.com/mnist/train-images-idx3-ubyte.gz to ./data/MNIST/raw/train-images-idx3-ubyte.gz\n"
          ]
        },
        {
          "output_type": "stream",
          "name": "stderr",
          "text": [
            "100%|██████████| 9.91M/9.91M [00:00<00:00, 29.7MB/s]\n"
          ]
        },
        {
          "output_type": "stream",
          "name": "stdout",
          "text": [
            "Extracting ./data/MNIST/raw/train-images-idx3-ubyte.gz to ./data/MNIST/raw\n",
            "\n",
            "Downloading http://yann.lecun.com/exdb/mnist/train-labels-idx1-ubyte.gz\n",
            "Failed to download (trying next):\n",
            "HTTP Error 403: Forbidden\n",
            "\n",
            "Downloading https://ossci-datasets.s3.amazonaws.com/mnist/train-labels-idx1-ubyte.gz\n",
            "Downloading https://ossci-datasets.s3.amazonaws.com/mnist/train-labels-idx1-ubyte.gz to ./data/MNIST/raw/train-labels-idx1-ubyte.gz\n"
          ]
        },
        {
          "output_type": "stream",
          "name": "stderr",
          "text": [
            "100%|██████████| 28.9k/28.9k [00:00<00:00, 864kB/s]\n"
          ]
        },
        {
          "output_type": "stream",
          "name": "stdout",
          "text": [
            "Extracting ./data/MNIST/raw/train-labels-idx1-ubyte.gz to ./data/MNIST/raw\n",
            "\n",
            "Downloading http://yann.lecun.com/exdb/mnist/t10k-images-idx3-ubyte.gz\n",
            "Failed to download (trying next):\n",
            "HTTP Error 403: Forbidden\n",
            "\n",
            "Downloading https://ossci-datasets.s3.amazonaws.com/mnist/t10k-images-idx3-ubyte.gz\n",
            "Downloading https://ossci-datasets.s3.amazonaws.com/mnist/t10k-images-idx3-ubyte.gz to ./data/MNIST/raw/t10k-images-idx3-ubyte.gz\n"
          ]
        },
        {
          "output_type": "stream",
          "name": "stderr",
          "text": [
            "100%|██████████| 1.65M/1.65M [00:00<00:00, 7.94MB/s]\n"
          ]
        },
        {
          "output_type": "stream",
          "name": "stdout",
          "text": [
            "Extracting ./data/MNIST/raw/t10k-images-idx3-ubyte.gz to ./data/MNIST/raw\n",
            "\n",
            "Downloading http://yann.lecun.com/exdb/mnist/t10k-labels-idx1-ubyte.gz\n",
            "Failed to download (trying next):\n",
            "HTTP Error 403: Forbidden\n",
            "\n",
            "Downloading https://ossci-datasets.s3.amazonaws.com/mnist/t10k-labels-idx1-ubyte.gz\n",
            "Downloading https://ossci-datasets.s3.amazonaws.com/mnist/t10k-labels-idx1-ubyte.gz to ./data/MNIST/raw/t10k-labels-idx1-ubyte.gz\n"
          ]
        },
        {
          "output_type": "stream",
          "name": "stderr",
          "text": [
            "100%|██████████| 4.54k/4.54k [00:00<00:00, 1.48MB/s]"
          ]
        },
        {
          "output_type": "stream",
          "name": "stdout",
          "text": [
            "Extracting ./data/MNIST/raw/t10k-labels-idx1-ubyte.gz to ./data/MNIST/raw\n",
            "\n"
          ]
        },
        {
          "output_type": "stream",
          "name": "stderr",
          "text": [
            "\n"
          ]
        }
      ]
    },
    {
      "cell_type": "markdown",
      "source": [
        "# Step 5: Initialize the Model, Optimizer, and Training Loop"
      ],
      "metadata": {
        "id": "o0akPSVwBokc"
      }
    },
    {
      "cell_type": "code",
      "source": [
        "device = torch.device('cuda' if torch.cuda.is_available() else 'cpu')\n",
        "\n",
        "vae = VAE().to(device)\n",
        "optimizer = optim.Adam(vae.parameters(), lr=1e-3)\n",
        "\n",
        "num_epochs = 10\n",
        "for epoch in range(num_epochs):\n",
        "    vae.train()\n",
        "    train_loss = 0\n",
        "    for batch_idx, (data, _) in enumerate(train_loader):\n",
        "        data = data.to(device)\n",
        "        optimizer.zero_grad()\n",
        "        recon_batch, mu, log_var = vae(data)\n",
        "        loss = vae_loss(recon_batch, data, mu, log_var)\n",
        "        loss.backward()\n",
        "        train_loss += loss.item()\n",
        "        optimizer.step()\n",
        "\n",
        "        if batch_idx % 100 == 0:\n",
        "            print(f'Epoch {epoch+1}/{num_epochs}, Batch {batch_idx}/{len(train_loader)}, Loss: {loss.item() / len(data):.4f}')\n",
        "\n",
        "    print(f'====> Epoch: {epoch+1}, Average loss: {train_loss / len(train_loader.dataset):.4f}')"
      ],
      "metadata": {
        "colab": {
          "base_uri": "https://localhost:8080/"
        },
        "id": "s0hzq1THBoep",
        "outputId": "da786639-b7e0-424d-befd-3b30a7d94db2"
      },
      "execution_count": 5,
      "outputs": [
        {
          "output_type": "stream",
          "name": "stdout",
          "text": [
            "Epoch 1/10, Batch 0/469, Loss: 548.7528\n",
            "Epoch 1/10, Batch 100/469, Loss: 174.7357\n",
            "Epoch 1/10, Batch 200/469, Loss: 154.6047\n",
            "Epoch 1/10, Batch 300/469, Loss: 138.0626\n",
            "Epoch 1/10, Batch 400/469, Loss: 132.2031\n",
            "====> Epoch: 1, Average loss: 163.8553\n",
            "Epoch 2/10, Batch 0/469, Loss: 132.5268\n",
            "Epoch 2/10, Batch 100/469, Loss: 123.8026\n",
            "Epoch 2/10, Batch 200/469, Loss: 119.6807\n",
            "Epoch 2/10, Batch 300/469, Loss: 119.3211\n",
            "Epoch 2/10, Batch 400/469, Loss: 115.6559\n",
            "====> Epoch: 2, Average loss: 121.8115\n",
            "Epoch 3/10, Batch 0/469, Loss: 116.5135\n",
            "Epoch 3/10, Batch 100/469, Loss: 120.4553\n",
            "Epoch 3/10, Batch 200/469, Loss: 112.5194\n",
            "Epoch 3/10, Batch 300/469, Loss: 114.3770\n",
            "Epoch 3/10, Batch 400/469, Loss: 112.6325\n",
            "====> Epoch: 3, Average loss: 114.8457\n",
            "Epoch 4/10, Batch 0/469, Loss: 109.9149\n",
            "Epoch 4/10, Batch 100/469, Loss: 110.1161\n",
            "Epoch 4/10, Batch 200/469, Loss: 109.0288\n",
            "Epoch 4/10, Batch 300/469, Loss: 113.5785\n",
            "Epoch 4/10, Batch 400/469, Loss: 109.7888\n",
            "====> Epoch: 4, Average loss: 111.9456\n",
            "Epoch 5/10, Batch 0/469, Loss: 113.9030\n",
            "Epoch 5/10, Batch 100/469, Loss: 111.9893\n",
            "Epoch 5/10, Batch 200/469, Loss: 110.5399\n",
            "Epoch 5/10, Batch 300/469, Loss: 107.9397\n",
            "Epoch 5/10, Batch 400/469, Loss: 109.9036\n",
            "====> Epoch: 5, Average loss: 110.1323\n",
            "Epoch 6/10, Batch 0/469, Loss: 110.0169\n",
            "Epoch 6/10, Batch 100/469, Loss: 110.6718\n",
            "Epoch 6/10, Batch 200/469, Loss: 108.5465\n",
            "Epoch 6/10, Batch 300/469, Loss: 106.3534\n",
            "Epoch 6/10, Batch 400/469, Loss: 113.1159\n",
            "====> Epoch: 6, Average loss: 108.9831\n",
            "Epoch 7/10, Batch 0/469, Loss: 109.3096\n",
            "Epoch 7/10, Batch 100/469, Loss: 109.0448\n",
            "Epoch 7/10, Batch 200/469, Loss: 106.5956\n",
            "Epoch 7/10, Batch 300/469, Loss: 107.5685\n",
            "Epoch 7/10, Batch 400/469, Loss: 106.6730\n",
            "====> Epoch: 7, Average loss: 108.0894\n",
            "Epoch 8/10, Batch 0/469, Loss: 105.6871\n",
            "Epoch 8/10, Batch 100/469, Loss: 104.3207\n",
            "Epoch 8/10, Batch 200/469, Loss: 106.7111\n",
            "Epoch 8/10, Batch 300/469, Loss: 103.6723\n",
            "Epoch 8/10, Batch 400/469, Loss: 108.1407\n",
            "====> Epoch: 8, Average loss: 107.4970\n",
            "Epoch 9/10, Batch 0/469, Loss: 108.9306\n",
            "Epoch 9/10, Batch 100/469, Loss: 104.9682\n",
            "Epoch 9/10, Batch 200/469, Loss: 107.9169\n",
            "Epoch 9/10, Batch 300/469, Loss: 108.2624\n",
            "Epoch 9/10, Batch 400/469, Loss: 103.9223\n",
            "====> Epoch: 9, Average loss: 106.9238\n",
            "Epoch 10/10, Batch 0/469, Loss: 107.9646\n",
            "Epoch 10/10, Batch 100/469, Loss: 105.3303\n",
            "Epoch 10/10, Batch 200/469, Loss: 111.4099\n",
            "Epoch 10/10, Batch 300/469, Loss: 103.3974\n",
            "Epoch 10/10, Batch 400/469, Loss: 102.9250\n",
            "====> Epoch: 10, Average loss: 106.5253\n"
          ]
        }
      ]
    },
    {
      "cell_type": "markdown",
      "source": [
        "# Step 6: Visualize the Results"
      ],
      "metadata": {
        "id": "gwZ1GA-9BoY3"
      }
    },
    {
      "cell_type": "code",
      "source": [
        "def plot_reconstructions(model, test_loader, device):\n",
        "    model.eval()\n",
        "    with torch.no_grad():\n",
        "        data, _ = next(iter(test_loader))\n",
        "        data = data.to(device)\n",
        "        recon_batch, _, _ = model(data)\n",
        "        recon_batch = recon_batch.cpu()\n",
        "        data = data.cpu()\n",
        "\n",
        "        n = min(data.size(0), 8)\n",
        "        comparison = torch.cat([data[:n], recon_batch.view(data.size(0), 1, 28, 28)[:n]])\n",
        "        plt.figure(figsize=(20, 4))\n",
        "        for i in range(n):\n",
        "            # Display original\n",
        "            ax = plt.subplot(2, n, i + 1)\n",
        "            plt.imshow(data[i].squeeze(), cmap='gray')\n",
        "            plt.title(\"Original\")\n",
        "            plt.xticks([])\n",
        "            plt.yticks([])\n",
        "\n",
        "            # Display reconstruction\n",
        "            ax = plt.subplot(2, n, i + 1 + n)\n",
        "            plt.imshow(recon_batch[i].view(28, 28).squeeze(), cmap='gray')\n",
        "            plt.title(\"Reconstructed\")\n",
        "            plt.xticks([])\n",
        "            plt.yticks([])\n",
        "        plt.show()\n",
        "\n",
        "plot_reconstructions(vae, test_loader, device)"
      ],
      "metadata": {
        "colab": {
          "base_uri": "https://localhost:8080/",
          "height": 367
        },
        "id": "Yfysn9aVBoRo",
        "outputId": "3801029a-dad4-4305-cedb-79030fb3483b"
      },
      "execution_count": 6,
      "outputs": [
        {
          "output_type": "display_data",
          "data": {
            "text/plain": [
              "<Figure size 2000x400 with 16 Axes>"
            ],
            "image/png": "[encoded data removed]"
          },
          "metadata": {}
        }
      ]
    },
    {
      "cell_type": "markdown",
      "source": [
        "# Summary\n",
        "\n",
        "This code defines a VAE model, trains it on the MNIST dataset, and visualizes the original and reconstructed images. The VAE is trained using the Adam optimizer and a combination of binary cross-entropy reconstruction loss and KL divergence regularization. The results are visualized using matplotlib."
      ],
      "metadata": {
        "id": "XBe5OntUBoLl"
      }
    }
  ]
}