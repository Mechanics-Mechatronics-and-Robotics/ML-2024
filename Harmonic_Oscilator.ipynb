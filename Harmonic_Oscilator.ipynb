{
  "nbformat": 4,
  "nbformat_minor": 0,
  "metadata": {
    "colab": {
      "provenance": [],
      "gpuType": "T4",
      "authorship_tag": "ABX9TyPxp1XXrNOeExbpAqGICPCX",
      "include_colab_link": true
    },
    "kernelspec": {
      "name": "python3",
      "display_name": "Python 3"
    },
    "language_info": {
      "name": "python"
    },
    "accelerator": "GPU"
  },
  "cells": [
    {
      "cell_type": "markdown",
      "metadata": {
        "id": "view-in-github",
        "colab_type": "text"
      },
      "source": [
        "<a href=\"https://colab.research.google.com/github/Mechanics-Mechatronics-and-Robotics/ML-2024/blob/main/Harmonic_Oscilator.ipynb\" target=\"_parent\"><img src=\"https://colab.research.google.com/assets/colab-badge.svg\" alt=\"Open In Colab\"/></a>"
      ]
    },
    {
      "cell_type": "code",
      "execution_count": 20,
      "metadata": {
        "id": "_mAoSDMnwhkc"
      },
      "outputs": [],
      "source": [
        "import torch\n",
        "import torch.nn as nn\n",
        "import torch.optim as optim\n",
        "import numpy as np\n",
        "import matplotlib.pyplot as plt"
      ]
    },
    {
      "cell_type": "code",
      "source": [
        "class PINN(nn.Module):\n",
        "    def __init__(self, input_dim, hidden_dim, output_dim):\n",
        "        super(PINN, self).__init__()\n",
        "        self.fc1 = nn.Linear(input_dim, hidden_dim)\n",
        "        self.fc2 = nn.Linear(hidden_dim, hidden_dim)\n",
        "        self.fc3 = nn.Linear(hidden_dim, output_dim)\n",
        "        self.relu = nn.ReLU()\n",
        "\n",
        "    def forward(self, x):\n",
        "        x = self.relu(self.fc1(x))\n",
        "        x = self.relu(self.fc2(x))\n",
        "        x = self.fc3(x)\n",
        "        return x"
      ],
      "metadata": {
        "id": "kOoODM8ywi-R"
      },
      "execution_count": 21,
      "outputs": []
    },
    {
      "cell_type": "code",
      "source": [
        "def loss_function(model, t, y_true):\n",
        "    # Data loss\n",
        "    y_pred = model(t)\n",
        "    data_loss = torch.mean((y_pred - y_true)**2)\n",
        "\n",
        "    # Physics loss\n",
        "    y_pred.requires_grad_(True)\n",
        "    y_t = torch.autograd.grad(y_pred, t, grad_outputs=torch.ones_like(y_pred), create_graph=True)[0]\n",
        "    y_tt = torch.autograd.grad(y_t, t, grad_outputs=torch.ones_like(y_t), create_graph=True)[0]\n",
        "    physics_loss = torch.mean((y_tt + y_pred)**2)  # Simple harmonic oscillator: y'' + y = 0\n",
        "\n",
        "    return data_loss + physics_loss"
      ],
      "metadata": {
        "id": "vgMZWZ6vwi7h"
      },
      "execution_count": 22,
      "outputs": []
    },
    {
      "cell_type": "code",
      "source": [
        "# Generate synthetic data\n",
        "np.random.seed(42)\n",
        "t = np.linspace(0, 10, 100)\n",
        "true_y = np.sin(t)  # True solution for simple harmonic oscillator\n",
        "\n",
        "# Initial conditions\n",
        "x0 = torch.tensor([0.0], requires_grad=True).unsqueeze(0)\n",
        "y0 = torch.tensor([0.0], requires_grad=True).unsqueeze(0)\n",
        "\n",
        "# Convert to PyTorch tensors\n",
        "t_tensor = torch.tensor(t, dtype=torch.float32).unsqueeze(1)\n",
        "y_tensor = torch.tensor(true_y, dtype=torch.float32).unsqueeze(1)"
      ],
      "metadata": {
        "id": "tPSh3kVqwi5A"
      },
      "execution_count": 23,
      "outputs": []
    },
    {
      "cell_type": "code",
      "source": [
        "# Initialize the model, optimizer, and loss function\n",
        "input_dim = 1\n",
        "hidden_dim = 20\n",
        "output_dim = 1\n",
        "model = PINN(input_dim, hidden_dim, output_dim)\n",
        "optimizer = optim.Adam(model.parameters(), lr=0.01)\n",
        "\n",
        "# Training loop\n",
        "num_epochs = 20000\n",
        "for epoch in range(num_epochs):\n",
        "    model.train()\n",
        "    optimizer.zero_grad()\n",
        "\n",
        "    # Ensure that t_tensor requires gradients\n",
        "    t_tensor.requires_grad_(True)\n",
        "\n",
        "    # Forward pass\n",
        "    y_pred = model(t_tensor)\n",
        "\n",
        "    # Compute the loss\n",
        "    loss = loss_function(model, t_tensor, y_tensor)\n",
        "\n",
        "    # Backward pass and optimization\n",
        "    loss.backward()\n",
        "    optimizer.step()\n",
        "\n",
        "    if (epoch + 1) % 100 == 0:\n",
        "        print(f'Epoch [{epoch+1}/{num_epochs}], Loss: {loss.item():.4f}')"
      ],
      "metadata": {
        "colab": {
          "base_uri": "https://localhost:8080/"
        },
        "id": "dcjf4EAuwi2Q",
        "outputId": "e2a46c57-04e2-4493-b31a-0ffc21924a92"
      },
      "execution_count": 24,
      "outputs": [
        {
          "output_type": "stream",
          "name": "stdout",
          "text": [
            "Epoch [100/20000], Loss: 0.3161\n",
            "Epoch [200/20000], Loss: 0.2528\n",
            "Epoch [300/20000], Loss: 0.2393\n",
            "Epoch [400/20000], Loss: 0.2390\n",
            "Epoch [500/20000], Loss: 0.2385\n",
            "Epoch [600/20000], Loss: 0.2384\n",
            "Epoch [700/20000], Loss: 0.2385\n",
            "Epoch [800/20000], Loss: 0.2384\n",
            "Epoch [900/20000], Loss: 0.2385\n",
            "Epoch [1000/20000], Loss: 0.2387\n",
            "Epoch [1100/20000], Loss: 0.2389\n",
            "Epoch [1200/20000], Loss: 0.2384\n",
            "Epoch [1300/20000], Loss: 0.2384\n",
            "Epoch [1400/20000], Loss: 0.2385\n",
            "Epoch [1500/20000], Loss: 0.2388\n",
            "Epoch [1600/20000], Loss: 0.2393\n",
            "Epoch [1700/20000], Loss: 0.2385\n",
            "Epoch [1800/20000], Loss: 0.2384\n",
            "Epoch [1900/20000], Loss: 0.2546\n",
            "Epoch [2000/20000], Loss: 0.2384\n",
            "Epoch [2100/20000], Loss: 0.2383\n",
            "Epoch [2200/20000], Loss: 0.2385\n",
            "Epoch [2300/20000], Loss: 0.2388\n",
            "Epoch [2400/20000], Loss: 0.2382\n",
            "Epoch [2500/20000], Loss: 0.2381\n",
            "Epoch [2600/20000], Loss: 0.2378\n",
            "Epoch [2700/20000], Loss: 0.2412\n",
            "Epoch [2800/20000], Loss: 0.2378\n",
            "Epoch [2900/20000], Loss: 0.2378\n",
            "Epoch [3000/20000], Loss: 0.2386\n",
            "Epoch [3100/20000], Loss: 0.2376\n",
            "Epoch [3200/20000], Loss: 0.2375\n",
            "Epoch [3300/20000], Loss: 0.2375\n",
            "Epoch [3400/20000], Loss: 0.2386\n",
            "Epoch [3500/20000], Loss: 0.2376\n",
            "Epoch [3600/20000], Loss: 0.2377\n",
            "Epoch [3700/20000], Loss: 0.2378\n",
            "Epoch [3800/20000], Loss: 0.2373\n",
            "Epoch [3900/20000], Loss: 0.2379\n",
            "Epoch [4000/20000], Loss: 0.2372\n",
            "Epoch [4100/20000], Loss: 0.2371\n",
            "Epoch [4200/20000], Loss: 0.2376\n",
            "Epoch [4300/20000], Loss: 0.2373\n",
            "Epoch [4400/20000], Loss: 0.2371\n",
            "Epoch [4500/20000], Loss: 0.2371\n",
            "Epoch [4600/20000], Loss: 0.2371\n",
            "Epoch [4700/20000], Loss: 0.2371\n",
            "Epoch [4800/20000], Loss: 0.2372\n",
            "Epoch [4900/20000], Loss: 0.2377\n",
            "Epoch [5000/20000], Loss: 0.2385\n",
            "Epoch [5100/20000], Loss: 0.2371\n",
            "Epoch [5200/20000], Loss: 0.2372\n",
            "Epoch [5300/20000], Loss: 0.2371\n",
            "Epoch [5400/20000], Loss: 0.2370\n",
            "Epoch [5500/20000], Loss: 0.2370\n",
            "Epoch [5600/20000], Loss: 0.2370\n",
            "Epoch [5700/20000], Loss: 0.2371\n",
            "Epoch [5800/20000], Loss: 0.2402\n",
            "Epoch [5900/20000], Loss: 0.2376\n",
            "Epoch [6000/20000], Loss: 0.2370\n",
            "Epoch [6100/20000], Loss: 0.2371\n",
            "Epoch [6200/20000], Loss: 0.2370\n",
            "Epoch [6300/20000], Loss: 0.2370\n",
            "Epoch [6400/20000], Loss: 0.2370\n",
            "Epoch [6500/20000], Loss: 0.2370\n",
            "Epoch [6600/20000], Loss: 0.2373\n",
            "Epoch [6700/20000], Loss: 0.2370\n",
            "Epoch [6800/20000], Loss: 0.2370\n",
            "Epoch [6900/20000], Loss: 0.2370\n",
            "Epoch [7000/20000], Loss: 0.2370\n",
            "Epoch [7100/20000], Loss: 0.2370\n",
            "Epoch [7200/20000], Loss: 0.2370\n",
            "Epoch [7300/20000], Loss: 0.2370\n",
            "Epoch [7400/20000], Loss: 0.2372\n",
            "Epoch [7500/20000], Loss: 0.2370\n",
            "Epoch [7600/20000], Loss: 0.2375\n",
            "Epoch [7700/20000], Loss: 0.2370\n",
            "Epoch [7800/20000], Loss: 0.2410\n",
            "Epoch [7900/20000], Loss: 0.2370\n",
            "Epoch [8000/20000], Loss: 0.2371\n",
            "Epoch [8100/20000], Loss: 0.2381\n",
            "Epoch [8200/20000], Loss: 0.2370\n",
            "Epoch [8300/20000], Loss: 0.2377\n",
            "Epoch [8400/20000], Loss: 0.2370\n",
            "Epoch [8500/20000], Loss: 0.2370\n",
            "Epoch [8600/20000], Loss: 0.2381\n",
            "Epoch [8700/20000], Loss: 0.2370\n",
            "Epoch [8800/20000], Loss: 0.2370\n",
            "Epoch [8900/20000], Loss: 0.2376\n",
            "Epoch [9000/20000], Loss: 0.2370\n",
            "Epoch [9100/20000], Loss: 0.2370\n",
            "Epoch [9200/20000], Loss: 0.2370\n",
            "Epoch [9300/20000], Loss: 0.2370\n",
            "Epoch [9400/20000], Loss: 0.2377\n",
            "Epoch [9500/20000], Loss: 0.2370\n",
            "Epoch [9600/20000], Loss: 0.2370\n",
            "Epoch [9700/20000], Loss: 0.2370\n",
            "Epoch [9800/20000], Loss: 0.2371\n",
            "Epoch [9900/20000], Loss: 0.2370\n",
            "Epoch [10000/20000], Loss: 0.2370\n",
            "Epoch [10100/20000], Loss: 0.2374\n",
            "Epoch [10200/20000], Loss: 0.2371\n",
            "Epoch [10300/20000], Loss: 0.2370\n",
            "Epoch [10400/20000], Loss: 0.2370\n",
            "Epoch [10500/20000], Loss: 0.2370\n",
            "Epoch [10600/20000], Loss: 0.2372\n",
            "Epoch [10700/20000], Loss: 0.2372\n",
            "Epoch [10800/20000], Loss: 0.2377\n",
            "Epoch [10900/20000], Loss: 0.2370\n",
            "Epoch [11000/20000], Loss: 0.2370\n",
            "Epoch [11100/20000], Loss: 0.2370\n",
            "Epoch [11200/20000], Loss: 0.2370\n",
            "Epoch [11300/20000], Loss: 0.2370\n",
            "Epoch [11400/20000], Loss: 0.2373\n",
            "Epoch [11500/20000], Loss: 0.2370\n",
            "Epoch [11600/20000], Loss: 0.2371\n",
            "Epoch [11700/20000], Loss: 0.2370\n",
            "Epoch [11800/20000], Loss: 0.2370\n",
            "Epoch [11900/20000], Loss: 0.2370\n",
            "Epoch [12000/20000], Loss: 0.2370\n",
            "Epoch [12100/20000], Loss: 0.2370\n",
            "Epoch [12200/20000], Loss: 0.2370\n",
            "Epoch [12300/20000], Loss: 0.2370\n",
            "Epoch [12400/20000], Loss: 0.2371\n",
            "Epoch [12500/20000], Loss: 0.2370\n",
            "Epoch [12600/20000], Loss: 0.2372\n",
            "Epoch [12700/20000], Loss: 0.2370\n",
            "Epoch [12800/20000], Loss: 0.2370\n",
            "Epoch [12900/20000], Loss: 0.2370\n",
            "Epoch [13000/20000], Loss: 0.2370\n",
            "Epoch [13100/20000], Loss: 0.2370\n",
            "Epoch [13200/20000], Loss: 0.2370\n",
            "Epoch [13300/20000], Loss: 0.2370\n",
            "Epoch [13400/20000], Loss: 0.2370\n",
            "Epoch [13500/20000], Loss: 0.2370\n",
            "Epoch [13600/20000], Loss: 0.2370\n",
            "Epoch [13700/20000], Loss: 0.2370\n",
            "Epoch [13800/20000], Loss: 0.2371\n",
            "Epoch [13900/20000], Loss: 0.2370\n",
            "Epoch [14000/20000], Loss: 0.2370\n",
            "Epoch [14100/20000], Loss: 0.2370\n",
            "Epoch [14200/20000], Loss: 0.2370\n",
            "Epoch [14300/20000], Loss: 0.2370\n",
            "Epoch [14400/20000], Loss: 0.2370\n",
            "Epoch [14500/20000], Loss: 0.2370\n",
            "Epoch [14600/20000], Loss: 0.2371\n",
            "Epoch [14700/20000], Loss: 0.2372\n",
            "Epoch [14800/20000], Loss: 0.2370\n",
            "Epoch [14900/20000], Loss: 0.2370\n",
            "Epoch [15000/20000], Loss: 0.2370\n",
            "Epoch [15100/20000], Loss: 0.2370\n",
            "Epoch [15200/20000], Loss: 0.2370\n",
            "Epoch [15300/20000], Loss: 0.2370\n",
            "Epoch [15400/20000], Loss: 0.2370\n",
            "Epoch [15500/20000], Loss: 0.2375\n",
            "Epoch [15600/20000], Loss: 0.2370\n",
            "Epoch [15700/20000], Loss: 0.2370\n",
            "Epoch [15800/20000], Loss: 0.2371\n",
            "Epoch [15900/20000], Loss: 0.2371\n",
            "Epoch [16000/20000], Loss: 0.2375\n",
            "Epoch [16100/20000], Loss: 0.2373\n",
            "Epoch [16200/20000], Loss: 0.2370\n",
            "Epoch [16300/20000], Loss: 0.2370\n",
            "Epoch [16400/20000], Loss: 0.2370\n",
            "Epoch [16500/20000], Loss: 0.2371\n",
            "Epoch [16600/20000], Loss: 0.2371\n",
            "Epoch [16700/20000], Loss: 0.2371\n",
            "Epoch [16800/20000], Loss: 0.2370\n",
            "Epoch [16900/20000], Loss: 0.2370\n",
            "Epoch [17000/20000], Loss: 0.2371\n",
            "Epoch [17100/20000], Loss: 0.2370\n",
            "Epoch [17200/20000], Loss: 0.2370\n",
            "Epoch [17300/20000], Loss: 0.2371\n",
            "Epoch [17400/20000], Loss: 0.2370\n",
            "Epoch [17500/20000], Loss: 0.2370\n",
            "Epoch [17600/20000], Loss: 0.2370\n",
            "Epoch [17700/20000], Loss: 0.2376\n",
            "Epoch [17800/20000], Loss: 0.2375\n",
            "Epoch [17900/20000], Loss: 0.2371\n",
            "Epoch [18000/20000], Loss: 0.2375\n",
            "Epoch [18100/20000], Loss: 0.2372\n",
            "Epoch [18200/20000], Loss: 0.2370\n",
            "Epoch [18300/20000], Loss: 0.2375\n",
            "Epoch [18400/20000], Loss: 0.2376\n",
            "Epoch [18500/20000], Loss: 0.2370\n",
            "Epoch [18600/20000], Loss: 0.2372\n",
            "Epoch [18700/20000], Loss: 0.2370\n",
            "Epoch [18800/20000], Loss: 0.2370\n",
            "Epoch [18900/20000], Loss: 0.2370\n",
            "Epoch [19000/20000], Loss: 0.2370\n",
            "Epoch [19100/20000], Loss: 0.2370\n",
            "Epoch [19200/20000], Loss: 0.2372\n",
            "Epoch [19300/20000], Loss: 0.2373\n",
            "Epoch [19400/20000], Loss: 0.2377\n",
            "Epoch [19500/20000], Loss: 0.2374\n",
            "Epoch [19600/20000], Loss: 0.2371\n",
            "Epoch [19700/20000], Loss: 0.2370\n",
            "Epoch [19800/20000], Loss: 0.2370\n",
            "Epoch [19900/20000], Loss: 0.2371\n",
            "Epoch [20000/20000], Loss: 0.2370\n"
          ]
        }
      ]
    },
    {
      "cell_type": "code",
      "source": [
        "# Evaluate the model\n",
        "model.eval()\n",
        "with torch.no_grad():\n",
        "    y_pred = model(t_tensor)\n",
        "\n",
        "# Convert to numpy arrays\n",
        "y_pred = y_pred.squeeze().numpy()\n",
        "\n",
        "# Plot the results\n",
        "plt.figure(figsize=(10, 6))\n",
        "plt.plot(t, true_y, label='True Solution')\n",
        "plt.plot(t, y_pred, label='PINN Solution', linestyle='--')\n",
        "plt.xlabel('t')\n",
        "plt.ylabel('y')\n",
        "plt.title('Simple Harmonic Oscillator using PINN')\n",
        "plt.legend()\n",
        "plt.show()"
      ],
      "metadata": {
        "colab": {
          "base_uri": "https://localhost:8080/",
          "height": 564
        },
        "id": "xoGR1Htbwizg",
        "outputId": "b1d7f3ba-4cc1-4065-f885-bfeda5b3bf4d"
      },
      "execution_count": 25,
      "outputs": [
        {
          "output_type": "display_data",
          "data": {
            "text/plain": [
              "<Figure size 1000x600 with 1 Axes>"
            ],
            "image/png": "[encoded data removed]"
          },
          "metadata": {}
        }
      ]
    },
    {
      "cell_type": "code",
      "source": [],
      "metadata": {
        "id": "oidKVu66wiwy"
      },
      "execution_count": 25,
      "outputs": []
    },
    {
      "cell_type": "code",
      "source": [],
      "metadata": {
        "id": "YR0LeUcRwiug"
      },
      "execution_count": 25,
      "outputs": []
    },
    {
      "cell_type": "code",
      "source": [],
      "metadata": {
        "id": "j7auy8r8wirw"
      },
      "execution_count": 25,
      "outputs": []
    },
    {
      "cell_type": "code",
      "source": [],
      "metadata": {
        "id": "OVBVz2gEwipQ"
      },
      "execution_count": 25,
      "outputs": []
    },
    {
      "cell_type": "code",
      "source": [],
      "metadata": {
        "id": "QOLBgMhvwil_"
      },
      "execution_count": 25,
      "outputs": []
    }
  ]
}