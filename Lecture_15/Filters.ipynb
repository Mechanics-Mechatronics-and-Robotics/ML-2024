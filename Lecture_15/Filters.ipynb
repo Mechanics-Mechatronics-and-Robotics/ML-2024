{
  "nbformat": 4,
  "nbformat_minor": 0,
  "metadata": {
    "colab": {
      "provenance": [],
      "gpuType": "T4",
      "authorship_tag": "ABX9TyP2dmzp+PqKAaLTMTGQwf7s",
      "include_colab_link": true
    },
    "kernelspec": {
      "name": "python3",
      "display_name": "Python 3"
    },
    "language_info": {
      "name": "python"
    },
    "accelerator": "GPU"
  },
  "cells": [
    {
      "cell_type": "markdown",
      "metadata": {
        "id": "view-in-github",
        "colab_type": "text"
      },
      "source": [
        "<a href=\"https://colab.research.google.com/github/Mechanics-Mechatronics-and-Robotics/ML-2024/blob/main/Lecture_15/Filters.ipynb\" target=\"_parent\"><img src=\"https://colab.research.google.com/assets/colab-badge.svg\" alt=\"Open In Colab\"/></a>"
      ]
    },
    {
      "cell_type": "code",
      "execution_count": 1,
      "metadata": {
        "colab": {
          "base_uri": "https://localhost:8080/"
        },
        "id": "yPS5t-TaWQhz",
        "outputId": "7753d0d9-3dcb-4a10-f797-952c3ba25422"
      },
      "outputs": [
        {
          "output_type": "stream",
          "name": "stdout",
          "text": [
            "Downloading http://yann.lecun.com/exdb/mnist/train-images-idx3-ubyte.gz\n",
            "Failed to download (trying next):\n",
            "HTTP Error 403: Forbidden\n",
            "\n",
            "Downloading https://ossci-datasets.s3.amazonaws.com/mnist/train-images-idx3-ubyte.gz\n",
            "Downloading https://ossci-datasets.s3.amazonaws.com/mnist/train-images-idx3-ubyte.gz to ./data/MNIST/raw/train-images-idx3-ubyte.gz\n"
          ]
        },
        {
          "output_type": "stream",
          "name": "stderr",
          "text": [
            "100%|██████████| 9.91M/9.91M [00:02<00:00, 4.54MB/s]\n"
          ]
        },
        {
          "output_type": "stream",
          "name": "stdout",
          "text": [
            "Extracting ./data/MNIST/raw/train-images-idx3-ubyte.gz to ./data/MNIST/raw\n",
            "\n",
            "Downloading http://yann.lecun.com/exdb/mnist/train-labels-idx1-ubyte.gz\n",
            "Failed to download (trying next):\n",
            "HTTP Error 403: Forbidden\n",
            "\n",
            "Downloading https://ossci-datasets.s3.amazonaws.com/mnist/train-labels-idx1-ubyte.gz\n",
            "Downloading https://ossci-datasets.s3.amazonaws.com/mnist/train-labels-idx1-ubyte.gz to ./data/MNIST/raw/train-labels-idx1-ubyte.gz\n"
          ]
        },
        {
          "output_type": "stream",
          "name": "stderr",
          "text": [
            "100%|██████████| 28.9k/28.9k [00:00<00:00, 134kB/s]\n"
          ]
        },
        {
          "output_type": "stream",
          "name": "stdout",
          "text": [
            "Extracting ./data/MNIST/raw/train-labels-idx1-ubyte.gz to ./data/MNIST/raw\n",
            "\n",
            "Downloading http://yann.lecun.com/exdb/mnist/t10k-images-idx3-ubyte.gz\n",
            "Failed to download (trying next):\n",
            "HTTP Error 403: Forbidden\n",
            "\n",
            "Downloading https://ossci-datasets.s3.amazonaws.com/mnist/t10k-images-idx3-ubyte.gz\n",
            "Downloading https://ossci-datasets.s3.amazonaws.com/mnist/t10k-images-idx3-ubyte.gz to ./data/MNIST/raw/t10k-images-idx3-ubyte.gz\n"
          ]
        },
        {
          "output_type": "stream",
          "name": "stderr",
          "text": [
            "100%|██████████| 1.65M/1.65M [00:01<00:00, 1.12MB/s]\n"
          ]
        },
        {
          "output_type": "stream",
          "name": "stdout",
          "text": [
            "Extracting ./data/MNIST/raw/t10k-images-idx3-ubyte.gz to ./data/MNIST/raw\n",
            "\n",
            "Downloading http://yann.lecun.com/exdb/mnist/t10k-labels-idx1-ubyte.gz\n",
            "Failed to download (trying next):\n",
            "HTTP Error 403: Forbidden\n",
            "\n",
            "Downloading https://ossci-datasets.s3.amazonaws.com/mnist/t10k-labels-idx1-ubyte.gz\n",
            "Downloading https://ossci-datasets.s3.amazonaws.com/mnist/t10k-labels-idx1-ubyte.gz to ./data/MNIST/raw/t10k-labels-idx1-ubyte.gz\n"
          ]
        },
        {
          "output_type": "stream",
          "name": "stderr",
          "text": [
            "100%|██████████| 4.54k/4.54k [00:00<00:00, 3.95MB/s]\n"
          ]
        },
        {
          "output_type": "stream",
          "name": "stdout",
          "text": [
            "Extracting ./data/MNIST/raw/t10k-labels-idx1-ubyte.gz to ./data/MNIST/raw\n",
            "\n",
            "Epoch [1/10], Loss: 0.0950\n",
            "Epoch [2/10], Loss: 0.0924\n",
            "Epoch [3/10], Loss: 0.0886\n",
            "Epoch [4/10], Loss: 0.0866\n",
            "Epoch [5/10], Loss: 0.0856\n",
            "Epoch [6/10], Loss: 0.0868\n",
            "Epoch [7/10], Loss: 0.0865\n",
            "Epoch [8/10], Loss: 0.0873\n",
            "Epoch [9/10], Loss: 0.0845\n",
            "Epoch [10/10], Loss: 0.0885\n"
          ]
        }
      ],
      "source": [
        "import torch\n",
        "import torch.nn as nn\n",
        "import torch.optim as optim\n",
        "import torchvision.transforms as transforms\n",
        "from torchvision.datasets import MNIST\n",
        "from torch.utils.data import DataLoader\n",
        "import numpy as np\n",
        "import matplotlib.pyplot as plt\n",
        "import cv2\n",
        "from scipy.fft import fft2, ifft2\n",
        "\n",
        "# Device configuration\n",
        "device = torch.device('cuda' if torch.cuda.is_available() else 'cpu')\n",
        "\n",
        "# Hyperparameters\n",
        "num_epochs = 10\n",
        "batch_size = 64\n",
        "learning_rate = 0.001\n",
        "noise_factor = 0.5\n",
        "\n",
        "# Load MNIST dataset\n",
        "transform = transforms.Compose([\n",
        "    transforms.ToTensor(),\n",
        "])\n",
        "\n",
        "train_dataset = MNIST(root='./data', train=True, transform=transform, download=True)\n",
        "train_loader = DataLoader(dataset=train_dataset, batch_size=batch_size, shuffle=True)\n",
        "\n",
        "# Autoencoder Model\n",
        "class Autoencoder(nn.Module):\n",
        "    def __init__(self):\n",
        "        super(Autoencoder, self).__init__()\n",
        "        self.encoder = nn.Sequential(\n",
        "            nn.Linear(28*28, 128),\n",
        "            nn.ReLU(),\n",
        "            nn.Linear(128, 64),\n",
        "            nn.ReLU(),\n",
        "            nn.Linear(64, 32),\n",
        "            nn.ReLU()\n",
        "        )\n",
        "        self.decoder = nn.Sequential(\n",
        "            nn.Linear(32, 64),\n",
        "            nn.ReLU(),\n",
        "            nn.Linear(64, 128),\n",
        "            nn.ReLU(),\n",
        "            nn.Linear(128, 28*28),\n",
        "            nn.Sigmoid()\n",
        "        )\n",
        "\n",
        "    def forward(self, x):\n",
        "        x = self.encoder(x)\n",
        "        x = self.decoder(x)\n",
        "        return x\n",
        "\n",
        "model = Autoencoder().to(device)\n",
        "criterion = nn.MSELoss()\n",
        "optimizer = optim.Adam(model.parameters(), lr=learning_rate)\n",
        "\n",
        "# Training the Autoencoder\n",
        "for epoch in range(num_epochs):\n",
        "    for data in train_loader:\n",
        "        img, _ = data\n",
        "        img = img.view(img.size(0), -1).to(device)\n",
        "        noise = torch.randn(img.size()).to(device) * noise_factor\n",
        "        noisy_img = img + noise\n",
        "        noisy_img = torch.clamp(noisy_img, 0., 1.)\n",
        "\n",
        "        # Forward pass\n",
        "        output = model(noisy_img)\n",
        "        loss = criterion(output, noisy_img)\n",
        "\n",
        "        # Backward pass and optimization\n",
        "        optimizer.zero_grad()\n",
        "        loss.backward()\n",
        "        optimizer.step()\n",
        "\n",
        "    print(f'Epoch [{epoch+1}/{num_epochs}], Loss: {loss.item():.4f}')\n",
        "\n"
      ]
    },
    {
      "cell_type": "code",
      "source": [
        "# Function to add noise to an image\n",
        "def add_noise(img, noise_factor=0.5):\n",
        "    noise = torch.randn(img.size()).to(device) * noise_factor\n",
        "    noisy_img = img + noise\n",
        "    noisy_img = torch.clamp(noisy_img, 0., 1.)\n",
        "    return noisy_img\n",
        "\n",
        "# Function to denoise using Gaussian filter\n",
        "def gaussian_filter(img, kernel_size=5, sigma=1.0):\n",
        "    img_np = img.squeeze().cpu().numpy()\n",
        "    img_denoised = cv2.GaussianBlur(img_np, (kernel_size, kernel_size), sigma)\n",
        "    return torch.tensor(img_denoised)\n",
        "\n",
        "# Function to denoise using Fourier transform\n",
        "def fourier_transform(img):\n",
        "    img_np = img.squeeze().cpu().numpy().reshape(28, 28)  # Reshape to 2D\n",
        "    f = fft2(img_np)\n",
        "    f_shifted = np.fft.fftshift(f)\n",
        "    magnitude_spectrum = np.log(np.abs(f_shifted) + 1)\n",
        "\n",
        "    # Apply a low-pass filter in the frequency domain\n",
        "    rows, cols = img_np.shape\n",
        "    crow, ccol = rows // 2, cols // 2\n",
        "    f_shifted[crow-30:crow+30, ccol-30:ccol+30] = 0\n",
        "\n",
        "    f_ishifted = np.fft.ifftshift(f_shifted)\n",
        "    img_back = ifft2(f_ishifted)\n",
        "    img_back = np.abs(img_back)\n",
        "    return torch.tensor(img_back.reshape(1, -1))  # Reshape back to 1D\n",
        "\n",
        "# Function to denoise using Median filter\n",
        "def median_filter(img, kernel_size=3):\n",
        "    img_np = img.squeeze().cpu().numpy()\n",
        "    img_denoised = cv2.medianBlur(img_np, kernel_size)\n",
        "    return torch.tensor(img_denoised)"
      ],
      "metadata": {
        "id": "wj5KYKCzYgzV"
      },
      "execution_count": 2,
      "outputs": []
    },
    {
      "cell_type": "code",
      "source": [
        "# Test the model on a sample image\n",
        "test_dataset = MNIST(root='./data', train=False, transform=transform, download=True)\n",
        "test_loader = DataLoader(dataset=test_dataset, batch_size=1, shuffle=False)\n",
        "\n",
        "for data in test_loader:\n",
        "    img, _ = data\n",
        "    img = img.view(img.size(0), -1).to(device)\n",
        "    noisy_img = add_noise(img).to(device)\n",
        "\n",
        "    # Denoise using Autoencoder\n",
        "    denoised_img_ae = model(noisy_img).detach().cpu().view(28, 28)\n",
        "\n",
        "    # Denoise using Gaussian filter\n",
        "    denoised_img_gaussian = gaussian_filter(noisy_img).view(28, 28)\n",
        "\n",
        "    # Denoise using Fourier transform\n",
        "    denoised_img_fourier = fourier_transform(noisy_img).view(28, 28)\n",
        "\n",
        "    # Denoise using Median filter\n",
        "    denoised_img_median = median_filter(noisy_img).view(28, 28)\n",
        "\n",
        "    # Plot the results\n",
        "    plt.figure(figsize=(18, 6))\n",
        "\n",
        "    plt.subplot(1, 6, 1)\n",
        "    plt.title('Original')\n",
        "    plt.imshow(img.view(28, 28).cpu().numpy(), cmap='gray')\n",
        "    plt.axis('off')\n",
        "\n",
        "    plt.subplot(1, 6, 2)\n",
        "    plt.title('Noisy')\n",
        "    plt.imshow(noisy_img.view(28, 28).cpu().numpy(), cmap='gray')\n",
        "    plt.axis('off')\n",
        "\n",
        "    plt.subplot(1, 6, 3)\n",
        "    plt.title('Autoencoder')\n",
        "    plt.imshow(denoised_img_ae.numpy(), cmap='gray')\n",
        "    plt.axis('off')\n",
        "\n",
        "    plt.subplot(1, 6, 4)\n",
        "    plt.title('Gaussian Filter')\n",
        "    plt.imshow(denoised_img_gaussian.numpy(), cmap='gray')\n",
        "    plt.axis('off')\n",
        "\n",
        "    plt.subplot(1, 6, 5)\n",
        "    plt.title('Fourier Transform')\n",
        "    plt.imshow(denoised_img_fourier.numpy(), cmap='gray')\n",
        "    plt.axis('off')\n",
        "\n",
        "    plt.subplot(1, 6, 6)\n",
        "    plt.title('Median Filter')\n",
        "    plt.imshow(denoised_img_median.numpy(), cmap='gray')\n",
        "    plt.axis('off')\n",
        "\n",
        "    plt.show()\n",
        "\n",
        "    break  # Just show one example"
      ],
      "metadata": {
        "colab": {
          "base_uri": "https://localhost:8080/",
          "height": 258
        },
        "id": "dmgkgmD_X8Fr",
        "outputId": "de8c0939-8a2b-4f20-90b6-b451aecc198b"
      },
      "execution_count": 3,
      "outputs": [
        {
          "output_type": "display_data",
          "data": {
            "text/plain": [
              "<Figure size 1800x600 with 6 Axes>"
            ],
            "image/png": "[encoded data removed]"
          },
          "metadata": {}
        }
      ]
    },
    {
      "cell_type": "code",
      "source": [],
      "metadata": {
        "id": "3lXuw30HbBdL"
      },
      "execution_count": 3,
      "outputs": []
    }
  ]
}